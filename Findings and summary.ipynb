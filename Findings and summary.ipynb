{
 "cells": [
  {
   "cell_type": "markdown",
   "metadata": {},
   "source": [
    "# How many customers were there for each approach?"
   ]
  },
  {
   "cell_type": "markdown",
   "metadata": {},
   "source": [
    "* In 6 weeks the email method had the highest number of cutomers, its share was 50%\n"
   ]
  },
  {
   "cell_type": "markdown",
   "metadata": {},
   "source": [
    "# What does the spread of the revenue look like overall? And for each method?"
   ]
  },
  {
   "cell_type": "markdown",
   "metadata": {},
   "source": [
    "* By looking at the overall revenue we found that email brought most of it\n",
    "* But looking at the Average Revenue and Median per method we discover that \"Email + Call\" is the one with higher value\n"
   ]
  },
  {
   "cell_type": "markdown",
   "metadata": {},
   "source": [
    "# Was there any difference in revenue over time for each of the methods?"
   ]
  },
  {
   "cell_type": "markdown",
   "metadata": {},
   "source": [
    "* We explored the number of products sold per week, per method and their cumulative revenue\n",
    "* We found that for the Email method the number started very high but mostly decreased each week and by week 6 it declined very siginificanlty\n",
    "* What is interesting is that the Email + Call method started with low numbers but steadily increased throughout the weeks and by the end of the period it was the method with most produsct sold per week and with the best revenue\n"
   ]
  },
  {
   "cell_type": "markdown",
   "metadata": {},
   "source": [
    "# Definition of a metric for the business to monitor"
   ]
  },
  {
   "cell_type": "markdown",
   "metadata": {},
   "source": [
    "## How should the business monitor what they want to achieve?"
   ]
  },
  {
   "cell_type": "markdown",
   "metadata": {},
   "source": [
    "The business can monitor its <b>avg revenue per visits ratio</b> as we found out that we can derive how well each method performs in relation to one another"
   ]
  },
  {
   "cell_type": "markdown",
   "metadata": {},
   "source": [
    "###  We can set the initial value of the Avg Revenue per visit at 0.0024\n",
    "Seeing that the 'Email + Call' method has the better potential for future sales this value can be the Benchmark"
   ]
  },
  {
   "cell_type": "markdown",
   "metadata": {},
   "source": [
    "# Final Summary and Recomendations"
   ]
  },
  {
   "cell_type": "markdown",
   "metadata": {},
   "source": [
    "* Thinking long term the company should focus on using the 'Email + Call' Method for sales after discovering that it has the best momentum on a wider time range\n",
    "* Clients that have been with the company for up to less than a year tend to bring a lot or revenue\n",
    "* By measuring how much time the sales reps spent on each method we found out that 'Calls' is not very efficient compare to the other two - by magnitud of 10\n",
    "* Instead of haven an only 'Call' method the company might want to  use 'Email + Call' instead"
   ]
  },
  {
   "cell_type": "code",
   "execution_count": null,
   "metadata": {},
   "outputs": [],
   "source": []
  }
 ],
 "metadata": {
  "kernelspec": {
   "display_name": "Python 3",
   "language": "python",
   "name": "python3"
  },
  "language_info": {
   "codemirror_mode": {
    "name": "ipython",
    "version": 3
   },
   "file_extension": ".py",
   "mimetype": "text/x-python",
   "name": "python",
   "nbconvert_exporter": "python",
   "pygments_lexer": "ipython3",
   "version": "3.7.0"
  }
 },
 "nbformat": 4,
 "nbformat_minor": 2
}
